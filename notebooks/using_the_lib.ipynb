{
 "cells": [
  {
   "cell_type": "markdown",
   "metadata": {},
   "source": [
    "## Import the image_embeddings lib"
   ]
  },
  {
   "cell_type": "code",
   "execution_count": null,
   "metadata": {},
   "outputs": [],
   "source": [
    "!pip install image_embeddings # don't run this line if running this directly in the repo"
   ]
  },
  {
   "cell_type": "code",
   "execution_count": 1,
   "metadata": {},
   "outputs": [],
   "source": [
    "import image_embeddings"
   ]
  },
  {
   "cell_type": "markdown",
   "metadata": {},
   "source": [
    "## Download an example dataset\n",
    "\n",
    "For this notebook, I download a dataset from https://www.tensorflow.org/datasets/catalog/overview\n",
    "but any image can be used.\n",
    "For example :\n",
    "* tf_flowers\n",
    "* stanford_dogs\n",
    "* mnist\n",
    "* fashion_mnist\n",
    "* horses_or_humans"
   ]
  },
  {
   "cell_type": "code",
   "execution_count": 2,
   "metadata": {},
   "outputs": [],
   "source": [
    "# Let's define some paths where to save images, tfrecords and embeddings\n",
    "from pathlib import Path\n",
    "home = str(Path.home())\n",
    "dataset = \"tf_flowers\"\n",
    "path_images = f\"{home}/{dataset}/images\"\n",
    "path_tfrecords = f\"{home}/{dataset}/tfrecords\"\n",
    "path_embeddings = f\"{home}/{dataset}/embeddings\""
   ]
  },
  {
   "cell_type": "code",
   "execution_count": 3,
   "metadata": {},
   "outputs": [
    {
     "name": "stderr",
     "output_type": "stream",
     "text": [
      "INFO:absl:Load pre-computed DatasetInfo (eg: splits, num examples,...) from GCS: tf_flowers/3.0.1\n",
      "INFO:absl:Load dataset info from /tmp/tmpzi_nv2hetfds\n",
      "INFO:absl:Generating dataset tf_flowers (/home/rom1504/tensorflow_datasets/tf_flowers/3.0.1)\n"
     ]
    },
    {
     "name": "stdout",
     "output_type": "stream",
     "text": [
      "\u001b[1mDownloading and preparing dataset tf_flowers/3.0.1 (download: 218.21 MiB, generated: 221.83 MiB, total: 440.05 MiB) to /home/rom1504/tensorflow_datasets/tf_flowers/3.0.1...\u001b[0m\n"
     ]
    },
    {
     "name": "stderr",
     "output_type": "stream",
     "text": [
      "WARNING:absl:Dataset tf_flowers is hosted on GCS. It will automatically be downloaded to your\n",
      "local data directory. If you'd instead prefer to read directly from our public\n",
      "GCS bucket (recommended if you're running on GCP), you can instead pass\n",
      "`try_gcs=True` to `tfds.load` or set `data_dir=gs://tfds-data/datasets`.\n",
      "\n"
     ]
    },
    {
     "data": {
      "application/vnd.jupyter.widget-view+json": {
       "model_id": "754190ac3c84421282fbd7dbf7b37441",
       "version_major": 2,
       "version_minor": 0
      },
      "text/plain": [
       "HBox(children=(FloatProgress(value=0.0, description='Dl Completed...', max=5.0, style=ProgressStyle(descriptio…"
      ]
     },
     "metadata": {},
     "output_type": "display_data"
    },
    {
     "name": "stderr",
     "output_type": "stream",
     "text": [
      "INFO:absl:Load dataset info from /home/rom1504/tensorflow_datasets/tf_flowers/3.0.1.incompleteJG0WW4\n",
      "INFO:absl:Constructing tf.data.Dataset for split train, from /home/rom1504/tensorflow_datasets/tf_flowers/3.0.1\n"
     ]
    },
    {
     "name": "stdout",
     "output_type": "stream",
     "text": [
      "\n",
      "\n",
      "\u001b[1mDataset tf_flowers downloaded and prepared to /home/rom1504/tensorflow_datasets/tf_flowers/3.0.1. Subsequent calls will reuse this data.\u001b[0m\n"
     ]
    }
   ],
   "source": [
    "image_embeddings.downloader.save_examples_to_folder(output_folder=path_images, images_count=1000, dataset=dataset)"
   ]
  },
  {
   "cell_type": "markdown",
   "metadata": {},
   "source": [
    "## Transform image to tf records\n",
    "\n",
    "Tf record is an efficient format to store image, it's better to use than raw image file for inference"
   ]
  },
  {
   "cell_type": "code",
   "execution_count": 4,
   "metadata": {},
   "outputs": [
    {
     "name": "stdout",
     "output_type": "stream",
     "text": [
      "Shard 0 saved after 0s\n",
      "Shard 1 saved after 0s\n",
      "Shard 2 saved after 0s\n",
      "Shard 3 saved after 0s\n",
      "Shard 4 saved after 0s\n",
      "Shard 5 saved after 1s\n",
      "Shard 6 saved after 1s\n",
      "Shard 7 saved after 1s\n",
      "Shard 8 saved after 1s\n",
      "Shard 9 saved after 1s\n"
     ]
    }
   ],
   "source": [
    "image_embeddings.inference.write_tfrecord(image_folder=path_images,\n",
    "                                          output_folder=path_tfrecords,\n",
    "                                          num_shards=10)"
   ]
  },
  {
   "cell_type": "markdown",
   "metadata": {},
   "source": [
    "## Build embeddings\n",
    "\n",
    "Here, efficientnet is used, but the code is particularly simple, and any other model could be used\n",
    "The input is tfrecords and the output is embeddings"
   ]
  },
  {
   "cell_type": "code",
   "execution_count": 5,
   "metadata": {},
   "outputs": [
    {
     "name": "stdout",
     "output_type": "stream",
     "text": [
      "1/1 [==============================] - 0s 14ms/step\n",
      "\n",
      "Shard 0 done after 6s\n",
      "Shard 0 saved after 6s\n",
      "1/1 [==============================] - 0s 7ms/step\n",
      "\n",
      "Shard 1 done after 11s\n",
      "Shard 1 saved after 11s\n",
      "1/1 [==============================] - 0s 5ms/step\n",
      "\n",
      "Shard 2 done after 16s\n",
      "Shard 2 saved after 16s\n",
      "1/1 [==============================] - 0s 5ms/step\n",
      "\n",
      "Shard 3 done after 21s\n",
      "Shard 3 saved after 21s\n",
      "1/1 [==============================] - 0s 9ms/step\n",
      "\n",
      "Shard 4 done after 26s\n",
      "Shard 4 saved after 26s\n",
      "1/1 [==============================] - 0s 5ms/step\n",
      "\n",
      "Shard 5 done after 31s\n",
      "Shard 5 saved after 31s\n",
      "1/1 [==============================] - 0s 6ms/step\n",
      "\n",
      "Shard 6 done after 36s\n",
      "Shard 6 saved after 36s\n",
      "1/1 [==============================] - 0s 7ms/step\n",
      "\n",
      "Shard 7 done after 41s\n",
      "Shard 7 saved after 41s\n",
      "1/1 [==============================] - 0s 7ms/step\n",
      "\n",
      "Shard 8 done after 45s\n",
      "Shard 8 saved after 46s\n",
      "1/1 [==============================] - 0s 5ms/step\n",
      "\n",
      "Shard 9 done after 50s\n",
      "Shard 9 saved after 50s\n"
     ]
    }
   ],
   "source": [
    "image_embeddings.inference.run_inference(tfrecords_folder=path_tfrecords,\n",
    "                                         output_folder=path_embeddings,\n",
    "                                         batch_size=1000)"
   ]
  },
  {
   "cell_type": "markdown",
   "metadata": {},
   "source": [
    "## Read the embeddings and build an index with it\n",
    "\n",
    "The knn index is built using https://github.com/facebookresearch/faiss which makes it possible\n",
    "to search embeddings in log(N) with lot of options to reduce memory footprint"
   ]
  },
  {
   "cell_type": "code",
   "execution_count": 31,
   "metadata": {},
   "outputs": [],
   "source": [
    "[id_to_name, name_to_id, embeddings] = image_embeddings.knn.read_embeddings(path_embeddings)\n",
    "index = image_embeddings.knn.build_index(embeddings)"
   ]
  },
  {
   "cell_type": "markdown",
   "metadata": {},
   "source": [
    "## Search in the index\n",
    "\n",
    "Let's pick a random product by id, retrieve its embedding and search in the index\n",
    "\n",
    "Then let's display the closest products"
   ]
  },
  {
   "cell_type": "code",
   "execution_count": 21,
   "metadata": {},
   "outputs": [
    {
     "name": "stdout",
     "output_type": "stream",
     "text": [
      "image_dandelion_443\n"
     ]
    },
    {
     "data": {
      "image/jpeg": "[encoded data removed]",
      "text/plain": [
       "<IPython.core.display.Image object>"
      ]
     },
     "metadata": {},
     "output_type": "display_data"
    },
    {
     "data": {
      "application/vnd.jupyter.widget-view+json": {
       "model_id": "bf080f250d354dc0b119a42519eaa239",
       "version_major": 2,
       "version_minor": 0
      },
      "text/plain": [
       "HBox(children=(VBox(children=(Label(value='1.00 image_dandelion_443'), Image(value=b'\\xff\\xd8\\xff\\xe0\\x00\\x10J…"
      ]
     },
     "metadata": {},
     "output_type": "display_data"
    }
   ],
   "source": [
    "p=225\n",
    "print(id_to_name[p])\n",
    "image_embeddings.knn.display_picture(path_images, id_to_name[p])\n",
    "results = image_embeddings.knn.search(index, id_to_name, embeddings[p])\n",
    "image_embeddings.knn.display_results(path_images, results)"
   ]
  },
  {
   "cell_type": "markdown",
   "metadata": {},
   "source": [
    "## Combination of images ?\n",
    "\n",
    "Any vector in the same space can be used as query\n",
    "For example I could have 2 image and want to find some example that are closeby to the 2, \n",
    "Let's just average them and see that happens !"
   ]
  },
  {
   "cell_type": "code",
   "execution_count": 32,
   "metadata": {},
   "outputs": [
    {
     "data": {
      "image/jpeg": "[encoded data removed]",
      "text/plain": [
       "<IPython.core.display.Image object>"
      ]
     },
     "metadata": {},
     "output_type": "display_data"
    },
    {
     "data": {
      "image/jpeg": "[encoded data removed]",
      "text/plain": [
       "<IPython.core.display.Image object>"
      ]
     },
     "metadata": {},
     "output_type": "display_data"
    },
    {
     "data": {
      "application/vnd.jupyter.widget-view+json": {
       "model_id": "4045dd3c7d234b32a1be8284fbe20f2b",
       "version_major": 2,
       "version_minor": 0
      },
      "text/plain": [
       "HBox(children=(VBox(children=(Label(value='134.38 image_dandelion_248'), Image(value=b'\\xff\\xd8\\xff\\xe0\\x00\\x1…"
      ]
     },
     "metadata": {},
     "output_type": "display_data"
    }
   ],
   "source": [
    "p1 = 19\n",
    "p2 = 67\n",
    "image1 = id_to_name[p1]\n",
    "image2 = id_to_name[p2]\n",
    "image_embeddings.knn.display_picture(path_images, image1)\n",
    "image_embeddings.knn.display_picture(path_images, image2)\n",
    "results = image_embeddings.knn.search(index, id_to_name, (embeddings[p1] + embeddings[p2])/2, 7)\n",
    "image_embeddings.knn.display_results(path_images, results)"
   ]
  },
  {
   "cell_type": "markdown",
   "metadata": {},
   "source": [
    "We get mostly one of the picture. One thing that can be done to improve this is to\n",
    "normalize the embeddings to get a better mix, let's try it !"
   ]
  },
  {
   "cell_type": "code",
   "execution_count": 33,
   "metadata": {},
   "outputs": [],
   "source": [
    "import numpy as np\n",
    "\n",
    "def normalized(a, axis=-1, order=2):\n",
    "    l2 = np.atleast_1d(np.linalg.norm(a, order, axis))\n",
    "    l2[l2==0] = 1\n",
    "    return a / np.expand_dims(l2, axis)\n",
    "normalized_embeddings = normalized(embeddings, 1)\n",
    "index_normalized = image_embeddings.knn.build_index(normalized_embeddings)"
   ]
  },
  {
   "cell_type": "code",
   "execution_count": 34,
   "metadata": {},
   "outputs": [
    {
     "data": {
      "image/jpeg": "[encoded data removed]",
      "text/plain": [
       "<IPython.core.display.Image object>"
      ]
     },
     "metadata": {},
     "output_type": "display_data"
    },
    {
     "data": {
      "image/jpeg": "[encoded data removed]",
      "text/plain": [
       "<IPython.core.display.Image object>"
      ]
     },
     "metadata": {},
     "output_type": "display_data"
    },
    {
     "data": {
      "application/vnd.jupyter.widget-view+json": {
       "model_id": "120642bd44994b69a716f8d420fe069f",
       "version_major": 2,
       "version_minor": 0
      },
      "text/plain": [
       "HBox(children=(VBox(children=(Label(value='0.61 image_sunflowers_378'), Image(value=b'\\xff\\xd8\\xff\\xe0\\x00\\x10…"
      ]
     },
     "metadata": {},
     "output_type": "display_data"
    }
   ],
   "source": [
    "p1 = 19\n",
    "p2 = 67\n",
    "image1 = id_to_name[p1]\n",
    "image2 = id_to_name[p2]\n",
    "image_embeddings.knn.display_picture(path_images, image1)\n",
    "image_embeddings.knn.display_picture(path_images, image2)\n",
    "results = image_embeddings.knn.search(index_normalized, id_to_name, (normalized_embeddings[p1] + normalized_embeddings[p2])/2, 7)\n",
    "image_embeddings.knn.display_results(path_images, results)"
   ]
  },
  {
   "cell_type": "markdown",
   "metadata": {},
   "source": [
    "As expected we see a mixture of images that looks like both"
   ]
  },
  {
   "cell_type": "markdown",
   "metadata": {},
   "source": [
    "## Next ?\n",
    "\n",
    "What else can you build with this ?\n",
    "\n",
    "An obvious example is retrieval (looking for closeby pictures) but recommendation systems or photo managers can also work very well using image embeddings !"
   ]
  },
  {
   "cell_type": "code",
   "execution_count": null,
   "metadata": {},
   "outputs": [],
   "source": []
  }
 ],
 "metadata": {
  "kernelspec": {
   "display_name": "Python 3",
   "language": "python",
   "name": "python3"
  },
  "language_info": {
   "codemirror_mode": {
    "name": "ipython",
    "version": 3
   },
   "file_extension": ".py",
   "mimetype": "text/x-python",
   "name": "python",
   "nbconvert_exporter": "python",
   "pygments_lexer": "ipython3",
   "version": "3.7.5"
  }
 },
 "nbformat": 4,
 "nbformat_minor": 4
}
