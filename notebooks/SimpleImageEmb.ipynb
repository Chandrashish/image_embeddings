{
 "cells": [
  {
   "cell_type": "code",
   "execution_count": 3,
   "metadata": {},
   "outputs": [
    {
     "ename": "ModuleNotFoundError",
     "evalue": "No module named 'faiss'",
     "output_type": "error",
     "traceback": [
      "\u001b[0;31m---------------------------------------------------------------------------\u001b[0m",
      "\u001b[0;31mModuleNotFoundError\u001b[0m                       Traceback (most recent call last)",
      "\u001b[0;32m<ipython-input-3-ab0348c7acb1>\u001b[0m in \u001b[0;36m<module>\u001b[0;34m\u001b[0m\n\u001b[0;32m----> 1\u001b[0;31m \u001b[0;32mimport\u001b[0m \u001b[0mimage_embeddings\u001b[0m\u001b[0;34m\u001b[0m\u001b[0;34m\u001b[0m\u001b[0m\n\u001b[0m\u001b[1;32m      2\u001b[0m \u001b[0;32mfrom\u001b[0m \u001b[0mpathlib\u001b[0m \u001b[0;32mimport\u001b[0m \u001b[0mPath\u001b[0m\u001b[0;34m\u001b[0m\u001b[0;34m\u001b[0m\u001b[0m\n\u001b[1;32m      3\u001b[0m \u001b[0mhome\u001b[0m \u001b[0;34m=\u001b[0m \u001b[0mstr\u001b[0m\u001b[0;34m(\u001b[0m\u001b[0mPath\u001b[0m\u001b[0;34m.\u001b[0m\u001b[0mhome\u001b[0m\u001b[0;34m(\u001b[0m\u001b[0;34m)\u001b[0m\u001b[0;34m)\u001b[0m\u001b[0;34m\u001b[0m\u001b[0;34m\u001b[0m\u001b[0m\n",
      "\u001b[0;32m/media/documents/Documents/programmation/interlangage/embeddings/image-embeddings/image_embeddings/__init__.py\u001b[0m in \u001b[0;36m<module>\u001b[0;34m\u001b[0m\n\u001b[1;32m      1\u001b[0m \u001b[0;32mimport\u001b[0m \u001b[0mimage_embeddings\u001b[0m\u001b[0;34m.\u001b[0m\u001b[0mdownloader\u001b[0m\u001b[0;34m\u001b[0m\u001b[0;34m\u001b[0m\u001b[0m\n\u001b[1;32m      2\u001b[0m \u001b[0;32mimport\u001b[0m \u001b[0mimage_embeddings\u001b[0m\u001b[0;34m.\u001b[0m\u001b[0minference\u001b[0m\u001b[0;34m\u001b[0m\u001b[0;34m\u001b[0m\u001b[0m\n\u001b[0;32m----> 3\u001b[0;31m \u001b[0;32mimport\u001b[0m \u001b[0mimage_embeddings\u001b[0m\u001b[0;34m.\u001b[0m\u001b[0mknn\u001b[0m\u001b[0;34m\u001b[0m\u001b[0;34m\u001b[0m\u001b[0m\n\u001b[0m\u001b[1;32m      4\u001b[0m \u001b[0;32mimport\u001b[0m \u001b[0mimage_embeddings\u001b[0m\u001b[0;34m.\u001b[0m\u001b[0mcli\u001b[0m\u001b[0;34m\u001b[0m\u001b[0;34m\u001b[0m\u001b[0m\n",
      "\u001b[0;32m/media/documents/Documents/programmation/interlangage/embeddings/image-embeddings/image_embeddings/knn/__init__.py\u001b[0m in \u001b[0;36m<module>\u001b[0;34m\u001b[0m\n\u001b[0;32m----> 1\u001b[0;31m \u001b[0;32mfrom\u001b[0m \u001b[0mimage_embeddings\u001b[0m\u001b[0;34m.\u001b[0m\u001b[0mknn\u001b[0m\u001b[0;34m.\u001b[0m\u001b[0mknn\u001b[0m \u001b[0;32mimport\u001b[0m \u001b[0mread_embeddings\u001b[0m\u001b[0;34m,\u001b[0m \u001b[0mbuild_index\u001b[0m\u001b[0;34m,\u001b[0m \u001b[0mdisplay_picture\u001b[0m\u001b[0;34m,\u001b[0m \u001b[0mdisplay_results\u001b[0m\u001b[0;34m,\u001b[0m \u001b[0msearch\u001b[0m\u001b[0;34m\u001b[0m\u001b[0;34m\u001b[0m\u001b[0m\n\u001b[0m",
      "\u001b[0;32m/media/documents/Documents/programmation/interlangage/embeddings/image-embeddings/image_embeddings/knn/knn.py\u001b[0m in \u001b[0;36m<module>\u001b[0;34m\u001b[0m\n\u001b[1;32m      4\u001b[0m \u001b[0;32mfrom\u001b[0m \u001b[0mIPython\u001b[0m\u001b[0;34m.\u001b[0m\u001b[0mdisplay\u001b[0m \u001b[0;32mimport\u001b[0m \u001b[0mImage\u001b[0m\u001b[0;34m,\u001b[0m \u001b[0mdisplay\u001b[0m\u001b[0;34m\u001b[0m\u001b[0;34m\u001b[0m\u001b[0m\n\u001b[1;32m      5\u001b[0m \u001b[0;32mfrom\u001b[0m \u001b[0mipywidgets\u001b[0m \u001b[0;32mimport\u001b[0m \u001b[0mwidgets\u001b[0m\u001b[0;34m,\u001b[0m \u001b[0mHBox\u001b[0m\u001b[0;34m,\u001b[0m \u001b[0mVBox\u001b[0m\u001b[0;34m\u001b[0m\u001b[0;34m\u001b[0m\u001b[0m\n\u001b[0;32m----> 6\u001b[0;31m \u001b[0;32mimport\u001b[0m \u001b[0mfaiss\u001b[0m\u001b[0;34m\u001b[0m\u001b[0;34m\u001b[0m\u001b[0m\n\u001b[0m\u001b[1;32m      7\u001b[0m \u001b[0;32mimport\u001b[0m \u001b[0mnumpy\u001b[0m \u001b[0;32mas\u001b[0m \u001b[0mnp\u001b[0m\u001b[0;34m\u001b[0m\u001b[0;34m\u001b[0m\u001b[0m\n\u001b[1;32m      8\u001b[0m \u001b[0;34m\u001b[0m\u001b[0m\n",
      "\u001b[0;31mModuleNotFoundError\u001b[0m: No module named 'faiss'"
     ]
    }
   ],
   "source": [
    "import image_embeddings\n",
    "from pathlib import Path\n",
    "home = str(Path.home())"
   ]
  },
  {
   "cell_type": "code",
   "execution_count": 6,
   "metadata": {},
   "outputs": [
    {
     "name": "stderr",
     "output_type": "stream",
     "text": [
      "INFO:absl:Load dataset info from /home/rom1504/tensorflow_datasets/tf_flowers/3.0.0\n",
      "INFO:absl:Field info.citation from disk and from code do not match. Keeping the one from code.\n",
      "INFO:absl:Field info.location from disk and from code do not match. Keeping the one from code.\n",
      "INFO:absl:Reusing dataset tf_flowers (/home/rom1504/tensorflow_datasets/tf_flowers/3.0.0)\n",
      "INFO:absl:Constructing tf.data.Dataset for split train, from /home/rom1504/tensorflow_datasets/tf_flowers/3.0.0\n"
     ]
    }
   ],
   "source": [
    "image_embeddings.downloader.save_examples_to_folder(output_folder=f\"{home}/my_tf_flower\")"
   ]
  },
  {
   "cell_type": "code",
   "execution_count": 7,
   "metadata": {},
   "outputs": [
    {
     "name": "stdout",
     "output_type": "stream",
     "text": [
      "Shard 0 saved after 0s\n",
      "Shard 1 saved after 0s\n",
      "Shard 2 saved after 0s\n",
      "Shard 3 saved after 0s\n",
      "Shard 4 saved after 0s\n",
      "Shard 5 saved after 0s\n",
      "Shard 6 saved after 1s\n",
      "Shard 7 saved after 1s\n",
      "Shard 8 saved after 1s\n",
      "Shard 9 saved after 1s\n"
     ]
    }
   ],
   "source": [
    "image_embeddings.inference.write_tfrecord(image_folder=f\"{home}/my_tf_flower\",\n",
    "                                          output_folder=f\"{home}/my_tf_flower_records\",\n",
    "                                          10)"
   ]
  },
  {
   "cell_type": "code",
   "execution_count": 8,
   "metadata": {},
   "outputs": [
    {
     "name": "stdout",
     "output_type": "stream",
     "text": [
      "Downloading data from https://github.com/Callidior/keras-applications/releases/download/efficientnet/efficientnet-b0_weights_tf_dim_ordering_tf_kernels_autoaugment_notop.h5\n",
      "16809984/16804768 [==============================] - 2s 0us/step\n",
      "1/1 [==============================] - 0s 427ms/step\n",
      "\n",
      "Shard 0 done after 7s\n",
      "Shard 0 saved after 8s\n",
      "1/1 [==============================] - 0s 5ms/step\n",
      "\n",
      "Shard 1 done after 13s\n",
      "Shard 1 saved after 13s\n",
      "1/1 [==============================] - 0s 5ms/step\n",
      "\n",
      "Shard 2 done after 18s\n",
      "Shard 2 saved after 18s\n",
      "1/1 [==============================] - 0s 39ms/step\n",
      "\n",
      "Shard 3 done after 23s\n",
      "Shard 3 saved after 24s\n",
      "1/1 [==============================] - 0s 6ms/step\n",
      "\n",
      "Shard 4 done after 28s\n",
      "Shard 4 saved after 28s\n",
      "1/1 [==============================] - 0s 5ms/step\n",
      "\n",
      "Shard 5 done after 34s\n",
      "Shard 5 saved after 34s\n",
      "1/1 [==============================] - 0s 9ms/step\n",
      "\n",
      "Shard 6 done after 41s\n",
      "Shard 6 saved after 41s\n",
      "1/1 [==============================] - 0s 5ms/step\n",
      "\n",
      "Shard 7 done after 46s\n",
      "Shard 7 saved after 46s\n",
      "1/1 [==============================] - 0s 7ms/step\n",
      "\n",
      "Shard 8 done after 52s\n",
      "Shard 8 saved after 52s\n",
      "1/1 [==============================] - 0s 7ms/step\n",
      "\n",
      "Shard 9 done after 59s\n",
      "Shard 9 saved after 59s\n"
     ]
    }
   ],
   "source": [
    "image_embeddings.inference.run_inference(tfrecords_folder=f\"{home}/my_tf_flower_records\",\n",
    "                                         output_folder=f\"{home}/my_tf_flower_embeddings\",\n",
    "                                         batch_size=1000)"
   ]
  },
  {
   "cell_type": "code",
   "execution_count": 2,
   "metadata": {},
   "outputs": [
    {
     "ename": "NameError",
     "evalue": "name 'image_embeddings' is not defined",
     "output_type": "error",
     "traceback": [
      "\u001b[0;31m---------------------------------------------------------------------------\u001b[0m",
      "\u001b[0;31mNameError\u001b[0m                                 Traceback (most recent call last)",
      "\u001b[0;32m<ipython-input-2-25c42424916e>\u001b[0m in \u001b[0;36m<module>\u001b[0;34m\u001b[0m\n\u001b[0;32m----> 1\u001b[0;31m \u001b[0;34m[\u001b[0m\u001b[0mid_to_name\u001b[0m\u001b[0;34m,\u001b[0m \u001b[0mname_to_id\u001b[0m\u001b[0;34m,\u001b[0m \u001b[0membeddings\u001b[0m\u001b[0;34m]\u001b[0m \u001b[0;34m=\u001b[0m \u001b[0mimage_embeddings\u001b[0m\u001b[0;34m.\u001b[0m\u001b[0mknn\u001b[0m\u001b[0;34m.\u001b[0m\u001b[0mread_embeddings\u001b[0m\u001b[0;34m(\u001b[0m\u001b[0;34mf\"{home}/my_tf_flower_embeddings\"\u001b[0m\u001b[0;34m)\u001b[0m\u001b[0;34m\u001b[0m\u001b[0;34m\u001b[0m\u001b[0m\n\u001b[0m\u001b[1;32m      2\u001b[0m \u001b[0mindex\u001b[0m \u001b[0;34m=\u001b[0m \u001b[0mimage_embeddings\u001b[0m\u001b[0;34m.\u001b[0m\u001b[0mknn\u001b[0m\u001b[0;34m.\u001b[0m\u001b[0mbuild_index\u001b[0m\u001b[0;34m(\u001b[0m\u001b[0membeddings\u001b[0m\u001b[0;34m)\u001b[0m\u001b[0;34m\u001b[0m\u001b[0;34m\u001b[0m\u001b[0m\n",
      "\u001b[0;31mNameError\u001b[0m: name 'image_embeddings' is not defined"
     ]
    }
   ],
   "source": [
    "[id_to_name, name_to_id, embeddings] = image_embeddings.knn.read_embeddings(f\"{home}/my_tf_flower_embeddings\")\n",
    "index = image_embeddings.knn.build_index(embeddings)"
   ]
  },
  {
   "cell_type": "code",
   "execution_count": null,
   "metadata": {},
   "outputs": [
    {
     "name": "stdout",
     "output_type": "stream",
     "text": [
      "image_dandelion_738\n"
     ]
    }
   ],
   "source": [
    "p=35\n",
    "print(id_to_name[p])\n",
    "image_embeddings.knn.display_picture(f\"{home}/my_tf_flower\", id_to_name[p])\n",
    "results = image_embeddings.knn.search(index, id_to_name, embeddings[p])\n",
    "image_embeddings.knn.display_results(f\"{home}/my_tf_flower\", results)"
   ]
  },
  {
   "cell_type": "code",
   "execution_count": null,
   "metadata": {},
   "outputs": [],
   "source": [
    "import numpy as np\n",
    "index.search(np.expand_dims(embeddings[0], 0), 2)"
   ]
  },
  {
   "cell_type": "code",
   "execution_count": null,
   "metadata": {},
   "outputs": [],
   "source": []
  }
 ],
 "metadata": {
  "kernelspec": {
   "display_name": "Python 3",
   "language": "python",
   "name": "python3"
  }
 },
 "nbformat": 4,
 "nbformat_minor": 4
}
