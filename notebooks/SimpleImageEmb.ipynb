{
 "cells": [
  {
   "cell_type": "markdown",
   "metadata": {},
   "source": [
    "## Import the image_embeddings lib"
   ]
  },
  {
   "cell_type": "code",
   "execution_count": 1,
   "metadata": {},
   "outputs": [],
   "source": [
    "import image_embeddings\n",
    "from pathlib import Path\n",
    "home = str(Path.home())"
   ]
  },
  {
   "cell_type": "markdown",
   "metadata": {},
   "source": [
    "## Download an example dataset\n",
    "\n",
    "For this notebook, I download a dataset from https://www.tensorflow.org/datasets/catalog/overview\n",
    "but any image can be used"
   ]
  },
  {
   "cell_type": "code",
   "execution_count": 6,
   "metadata": {},
   "outputs": [
    {
     "name": "stderr",
     "output_type": "stream",
     "text": [
      "INFO:absl:Load dataset info from /home/rom1504/tensorflow_datasets/tf_flowers/3.0.0\n",
      "INFO:absl:Field info.citation from disk and from code do not match. Keeping the one from code.\n",
      "INFO:absl:Field info.location from disk and from code do not match. Keeping the one from code.\n",
      "INFO:absl:Reusing dataset tf_flowers (/home/rom1504/tensorflow_datasets/tf_flowers/3.0.0)\n",
      "INFO:absl:Constructing tf.data.Dataset for split train, from /home/rom1504/tensorflow_datasets/tf_flowers/3.0.0\n"
     ]
    }
   ],
   "source": [
    "image_embeddings.downloader.save_examples_to_folder(output_folder=f\"{home}/my_tf_flower\")"
   ]
  },
  {
   "cell_type": "markdown",
   "metadata": {},
   "source": [
    "## Transform image to tf records\n",
    "\n",
    "Tf record is an efficient format to store image, it's better to use than raw image file for inference"
   ]
  },
  {
   "cell_type": "code",
   "execution_count": 7,
   "metadata": {},
   "outputs": [
    {
     "name": "stdout",
     "output_type": "stream",
     "text": [
      "Shard 0 saved after 0s\n",
      "Shard 1 saved after 0s\n",
      "Shard 2 saved after 0s\n",
      "Shard 3 saved after 0s\n",
      "Shard 4 saved after 0s\n",
      "Shard 5 saved after 0s\n",
      "Shard 6 saved after 1s\n",
      "Shard 7 saved after 1s\n",
      "Shard 8 saved after 1s\n",
      "Shard 9 saved after 1s\n"
     ]
    }
   ],
   "source": [
    "image_embeddings.inference.write_tfrecord(image_folder=f\"{home}/my_tf_flower\",\n",
    "                                          output_folder=f\"{home}/my_tf_flower_records\",\n",
    "                                          10)"
   ]
  },
  {
   "cell_type": "markdown",
   "metadata": {},
   "source": [
    "## Build embeddings\n",
    "\n",
    "Here, efficientnet is used, but the code is particularly simple, and any other model could be used\n",
    "The input is tfrecords and the output is embeddings"
   ]
  },
  {
   "cell_type": "code",
   "execution_count": 8,
   "metadata": {},
   "outputs": [
    {
     "name": "stdout",
     "output_type": "stream",
     "text": [
      "Downloading data from https://github.com/Callidior/keras-applications/releases/download/efficientnet/efficientnet-b0_weights_tf_dim_ordering_tf_kernels_autoaugment_notop.h5\n",
      "16809984/16804768 [==============================] - 2s 0us/step\n",
      "1/1 [==============================] - 0s 427ms/step\n",
      "\n",
      "Shard 0 done after 7s\n",
      "Shard 0 saved after 8s\n",
      "1/1 [==============================] - 0s 5ms/step\n",
      "\n",
      "Shard 1 done after 13s\n",
      "Shard 1 saved after 13s\n",
      "1/1 [==============================] - 0s 5ms/step\n",
      "\n",
      "Shard 2 done after 18s\n",
      "Shard 2 saved after 18s\n",
      "1/1 [==============================] - 0s 39ms/step\n",
      "\n",
      "Shard 3 done after 23s\n",
      "Shard 3 saved after 24s\n",
      "1/1 [==============================] - 0s 6ms/step\n",
      "\n",
      "Shard 4 done after 28s\n",
      "Shard 4 saved after 28s\n",
      "1/1 [==============================] - 0s 5ms/step\n",
      "\n",
      "Shard 5 done after 34s\n",
      "Shard 5 saved after 34s\n",
      "1/1 [==============================] - 0s 9ms/step\n",
      "\n",
      "Shard 6 done after 41s\n",
      "Shard 6 saved after 41s\n",
      "1/1 [==============================] - 0s 5ms/step\n",
      "\n",
      "Shard 7 done after 46s\n",
      "Shard 7 saved after 46s\n",
      "1/1 [==============================] - 0s 7ms/step\n",
      "\n",
      "Shard 8 done after 52s\n",
      "Shard 8 saved after 52s\n",
      "1/1 [==============================] - 0s 7ms/step\n",
      "\n",
      "Shard 9 done after 59s\n",
      "Shard 9 saved after 59s\n"
     ]
    }
   ],
   "source": [
    "image_embeddings.inference.run_inference(tfrecords_folder=f\"{home}/my_tf_flower_records\",\n",
    "                                         output_folder=f\"{home}/my_tf_flower_embeddings\",\n",
    "                                         batch_size=1000)"
   ]
  },
  {
   "cell_type": "markdown",
   "metadata": {},
   "source": [
    "## Read the embeddings and build an index with it\n",
    "\n",
    "The knn index is built using https://github.com/facebookresearch/faiss which makes it possible\n",
    "to search embeddings in log(N) with lot of options to reduce memory footprint"
   ]
  },
  {
   "cell_type": "code",
   "execution_count": 2,
   "metadata": {},
   "outputs": [],
   "source": [
    "[id_to_name, name_to_id, embeddings] = image_embeddings.knn.read_embeddings(f\"{home}/my_tf_flower_embeddings\")\n",
    "index = image_embeddings.knn.build_index(embeddings)"
   ]
  },
  {
   "cell_type": "markdown",
   "metadata": {},
   "source": [
    "## Search in the index\n",
    "\n",
    "Let's pick a random product by id, retrieve its embedding and search in the index\n",
    "\n",
    "Then let's display the closest products"
   ]
  },
  {
   "cell_type": "code",
   "execution_count": 26,
   "metadata": {},
   "outputs": [
    {
     "name": "stdout",
     "output_type": "stream",
     "text": [
      "image_dandelion_283\n"
     ]
    },
    {
     "data": {
      "image/jpeg": "[encoded data removed]",
      "text/plain": [
       "<IPython.core.display.Image object>"
      ]
     },
     "metadata": {},
     "output_type": "display_data"
    },
    {
     "data": {
      "application/vnd.jupyter.widget-view+json": {
       "model_id": "54e75bad31944b149aa31aa13ee7a5d2",
       "version_major": 2,
       "version_minor": 0
      },
      "text/plain": [
       "HBox(children=(VBox(children=(Label(value='264.73 image_dandelion_283'), Image(value=b'\\xff\\xd8\\xff\\xe0\\x00\\x1…"
      ]
     },
     "metadata": {},
     "output_type": "display_data"
    }
   ],
   "source": [
    "p=120\n",
    "print(id_to_name[p])\n",
    "image_embeddings.knn.display_picture(f\"{home}/my_tf_flower\", id_to_name[p])\n",
    "results = image_embeddings.knn.search(index, id_to_name, embeddings[p])\n",
    "image_embeddings.knn.display_results(f\"{home}/my_tf_flower\", results)"
   ]
  },
  {
   "cell_type": "markdown",
   "metadata": {},
   "source": [
    "## Combination of images ?\n",
    "\n",
    "Any vector in the same space can be used as query\n",
    "For example I could have 2 image and want to find some example that are closeby to the 2, \n",
    "Let's just average them and see that happens !"
   ]
  },
  {
   "cell_type": "code",
   "execution_count": 27,
   "metadata": {},
   "outputs": [
    {
     "data": {
      "image/jpeg": "[encoded data removed]",
      "text/plain": [
       "<IPython.core.display.Image object>"
      ]
     },
     "metadata": {},
     "output_type": "display_data"
    },
    {
     "data": {
      "image/jpeg": "[encoded data removed]",
      "text/plain": [
       "<IPython.core.display.Image object>"
      ]
     },
     "metadata": {},
     "output_type": "display_data"
    },
    {
     "data": {
      "application/vnd.jupyter.widget-view+json": {
       "model_id": "669aeaefda99450a8e35a450e4d77ebe",
       "version_major": 2,
       "version_minor": 0
      },
      "text/plain": [
       "HBox(children=(VBox(children=(Label(value='209.38 image_dandelion_283'), Image(value=b'\\xff\\xd8\\xff\\xe0\\x00\\x1…"
      ]
     },
     "metadata": {},
     "output_type": "display_data"
    }
   ],
   "source": [
    "p=120\n",
    "image1 = \"image_dandelion_283\"\n",
    "image2 = \"image_dandelion_521\"\n",
    "p1 = name_to_id[image1]\n",
    "p2 = name_to_id[image2]\n",
    "image_embeddings.knn.display_picture(f\"{home}/my_tf_flower\", image1)\n",
    "image_embeddings.knn.display_picture(f\"{home}/my_tf_flower\", image2)\n",
    "results = image_embeddings.knn.search(index, id_to_name, (embeddings[p1] + embeddings[p2])/2)\n",
    "image_embeddings.knn.display_results(f\"{home}/my_tf_flower\", results)"
   ]
  },
  {
   "cell_type": "markdown",
   "metadata": {},
   "source": [
    "As expected we see a mixture of images that look like both"
   ]
  },
  {
   "cell_type": "markdown",
   "metadata": {},
   "source": [
    "## Next ?\n",
    "\n",
    "What else can you build with this ?\n",
    "\n",
    "An obvious example is retrieval (looking for closeby pictures) but recommendation systems or photo managers can also work very well using image embeddings !"
   ]
  },
  {
   "cell_type": "code",
   "execution_count": null,
   "metadata": {},
   "outputs": [],
   "source": []
  }
 ],
 "metadata": {
  "kernelspec": {
   "display_name": "Python 3",
   "language": "python",
   "name": "python3"
  },
  "language_info": {
   "codemirror_mode": {
    "name": "ipython",
    "version": 3
   },
   "file_extension": ".py",
   "mimetype": "text/x-python",
   "name": "python",
   "nbconvert_exporter": "python",
   "pygments_lexer": "ipython3",
   "version": "3.7.5"
  }
 },
 "nbformat": 4,
 "nbformat_minor": 4
}
